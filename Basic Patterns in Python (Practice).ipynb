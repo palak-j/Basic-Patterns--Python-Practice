{
 "cells": [
  {
   "cell_type": "code",
   "execution_count": null,
   "metadata": {},
   "outputs": [],
   "source": []
  },
  {
   "cell_type": "code",
   "execution_count": 1,
   "metadata": {},
   "outputs": [
    {
     "name": "stdout",
     "output_type": "stream",
     "text": [
      "*****\n",
      "*****\n",
      "*****\n",
      "*****\n",
      "*****\n"
     ]
    }
   ],
   "source": [
    "## Pattern 1\n",
    "\n",
    "n_rows = 5\n",
    "n_cols = 5\n",
    "\n",
    "for i in range(n_rows):\n",
    "    print('*'*n_cols)\n",
    "    \n",
    "# Take a loop for n_rows and just print '*' n_cols number of times in each row.\n"
   ]
  },
  {
   "cell_type": "code",
   "execution_count": 2,
   "metadata": {},
   "outputs": [
    {
     "name": "stdout",
     "output_type": "stream",
     "text": [
      "*\n",
      "**\n",
      "***\n",
      "****\n",
      "*****\n"
     ]
    }
   ],
   "source": [
    "## Pattern 2\n",
    "\n",
    "n_rows = 5\n",
    "\n",
    "for i in range(n_rows):\n",
    "    print('*'*(i+1))\n",
    "    \n",
    "# Take a loop for n_rows and print '*' n number of times where n is equals to row number (not index of row)\n"
   ]
  },
  {
   "cell_type": "code",
   "execution_count": 3,
   "metadata": {},
   "outputs": [
    {
     "name": "stdout",
     "output_type": "stream",
     "text": [
      "1 \n",
      "2 2 \n",
      "3 3 3 \n",
      "4 4 4 4 \n",
      "5 5 5 5 5 \n"
     ]
    }
   ],
   "source": [
    "## Pattern 3\n",
    "\n",
    "n_rows = 5\n",
    "\n",
    "for i in range(n_rows):\n",
    "    for j in range(i+1):\n",
    "        print(i+1, end=' ')\n",
    "    print()\n",
    "    \n",
    "# Take a loop for n_rows and print 'row number' n number of times where n is equals to row number (not index of row)\n"
   ]
  },
  {
   "cell_type": "code",
   "execution_count": 4,
   "metadata": {},
   "outputs": [
    {
     "name": "stdout",
     "output_type": "stream",
     "text": [
      "1 \n",
      "1 2 \n",
      "1 2 3 \n",
      "1 2 3 4 \n",
      "1 2 3 4 5 \n"
     ]
    }
   ],
   "source": [
    "## Pattern 4\n",
    "\n",
    "n_rows = 5\n",
    "\n",
    "for i in range(n_rows):\n",
    "    for j in range(i+1):\n",
    "        print(j+1, end=' ')\n",
    "    print()\n",
    "    \n",
    "# Take a loop for n_rows and print 'column number' for n columns where n is equals to row number (not index of row)\n"
   ]
  },
  {
   "cell_type": "code",
   "execution_count": 5,
   "metadata": {},
   "outputs": [
    {
     "name": "stdout",
     "output_type": "stream",
     "text": [
      "*****\n",
      "****\n",
      "***\n",
      "**\n",
      "*\n"
     ]
    }
   ],
   "source": [
    "## Pattern 5\n",
    "\n",
    "n_rows = 5\n",
    "\n",
    "for i in range(n_rows):\n",
    "    print('*'*(n_rows-i))\n",
    "    \n",
    "# Take a loop for n_rows and print * for n columns where n is equals to (total number of rows - row number)"
   ]
  },
  {
   "cell_type": "code",
   "execution_count": 6,
   "metadata": {},
   "outputs": [
    {
     "name": "stdout",
     "output_type": "stream",
     "text": [
      "12345\n",
      "1234\n",
      "123\n",
      "12\n",
      "1\n"
     ]
    }
   ],
   "source": [
    "## Pattern 6\n",
    "\n",
    "n_rows = 5\n",
    "\n",
    "for i in range(n_rows):\n",
    "    for j in range(n_rows-i):\n",
    "        print(j+1, end='')\n",
    "    print()\n",
    "    \n",
    "# Take a loop for n_rows and print column number for n columns where n is equals to (total number of rows - row number)\n"
   ]
  },
  {
   "cell_type": "code",
   "execution_count": 7,
   "metadata": {},
   "outputs": [
    {
     "name": "stdout",
     "output_type": "stream",
     "text": [
      "    *    \n",
      "   ***   \n",
      "  *****  \n",
      " ******* \n",
      "*********\n"
     ]
    }
   ],
   "source": [
    "## Pattern 6\n",
    "\n",
    "n_rows = 5\n",
    "n_cols = 9\n",
    "\n",
    "for i in range(n_rows):\n",
    "    for j in range(n_cols):\n",
    "        if (j>=(4-i) and j<=(4+i)):\n",
    "            print('*', end='')\n",
    "        else:\n",
    "            print(\" \", end='')\n",
    "    print()\n",
    "    \n",
    "# Take two loops i and j (one for row and one for column) and print '*' where (col_number>=4-row_number and col_number<=4+row_number)\n"
   ]
  },
  {
   "cell_type": "code",
   "execution_count": 8,
   "metadata": {},
   "outputs": [
    {
     "name": "stdout",
     "output_type": "stream",
     "text": [
      "*********\n",
      " ******* \n",
      "  *****  \n",
      "   ***   \n",
      "    *    \n"
     ]
    }
   ],
   "source": [
    "## Pattern 7\n",
    "\n",
    "n_rows = 5\n",
    "n_cols = 9\n",
    "\n",
    "for i in range(n_rows):\n",
    "    for j in range(n_cols):\n",
    "        if (j>=i and j<9-i):     \n",
    "            print('*', end='')\n",
    "        else:\n",
    "            print(\" \", end='')\n",
    "    print()\n",
    "    \n",
    "# Take two loops i and j (one for row and one for column) and print '*' where (col_number>=row_number and col_number<=9-row_number)\n"
   ]
  },
  {
   "cell_type": "code",
   "execution_count": 9,
   "metadata": {},
   "outputs": [
    {
     "name": "stdout",
     "output_type": "stream",
     "text": [
      "         \n",
      "   **    \n",
      "  ****   \n",
      " ******  \n",
      "******** \n",
      "*********\n",
      " ******* \n",
      "  *****  \n",
      "   ***   \n",
      "    *    \n"
     ]
    }
   ],
   "source": [
    "## Pattern 8\n",
    "\n",
    "n_rows = 10\n",
    "n_cols = 9\n",
    "\n",
    "for i in range(n_rows):\n",
    "    if i<5:\n",
    "        for j in range(n_cols):\n",
    "            if (j>= (4-i) and j<(4+i)):\n",
    "                print('*', end='')\n",
    "            else:\n",
    "                print(\" \", end='')\n",
    "    else:\n",
    "        for j in range(n_cols):\n",
    "            if (j>=i-5 and j<9-i+5):     \n",
    "                print('*', end='')\n",
    "            else:\n",
    "                print(\" \", end='')\n",
    "    print()\n",
    "    \n",
    "# Combine Pattern 6 and Pattern 7 \n",
    "# Pattern 6 for row_num < 5 (as it is)\n",
    "# Pattern 7 for row_num > 5 (replace i with (i-5) in the condition)"
   ]
  },
  {
   "cell_type": "code",
   "execution_count": 10,
   "metadata": {},
   "outputs": [
    {
     "name": "stdout",
     "output_type": "stream",
     "text": [
      "    *\n",
      "   **\n",
      "  ***\n",
      " ****\n",
      "*****\n",
      "*****\n",
      " ****\n",
      "  ***\n",
      "   **\n",
      "    *\n"
     ]
    }
   ],
   "source": [
    "## Pattern 9\n",
    "\n",
    "n_rows = 10\n",
    "n_cols = 5\n",
    "\n",
    "for i in range(n_rows):\n",
    "    if i<5:\n",
    "        for j in range(n_cols):\n",
    "            if (j>= (4-i) and j<(5+i)):\n",
    "                print('*', end='')\n",
    "            else:\n",
    "                print(\" \", end='')\n",
    "    else:\n",
    "        for j in range(n_cols):\n",
    "            if (j>=i-5 and j<9-i+5):     \n",
    "                print('*', end='')\n",
    "            else:\n",
    "                print(\" \", end='')\n",
    "    print()\n",
    "    \n",
    "# Same as Pattern 8 (restrict num_columns to 5)"
   ]
  },
  {
   "cell_type": "code",
   "execution_count": 11,
   "metadata": {},
   "outputs": [
    {
     "name": "stdout",
     "output_type": "stream",
     "text": [
      "*    \n",
      "**   \n",
      "***  \n",
      "**** \n",
      "*****\n",
      "*****\n",
      "**** \n",
      "***  \n",
      "**   \n",
      "*    \n"
     ]
    }
   ],
   "source": [
    "## Pattern 10\n",
    "\n",
    "n_rows = 10\n",
    "n_cols = 5\n",
    "\n",
    "for i in range(n_rows):\n",
    "    if i<5:\n",
    "        for j in range(n_cols):\n",
    "            if (j<i+1):\n",
    "                print('*', end='')\n",
    "            else:\n",
    "                print(\" \", end='')\n",
    "    else:\n",
    "        for j in range(n_cols):\n",
    "            if (j<=9-i):     \n",
    "                print('*', end='')\n",
    "            else:\n",
    "                print(\" \", end='')\n",
    "    print()\n",
    "    \n",
    "# Same as Pattern 6\n",
    "# The only difference is-\n",
    "# For i<5, print ('*') when col_num < (row_num+1), else print(' ')\n",
    "# For i>=5, print ('*') when col_num < (9 - row_num)"
   ]
  },
  {
   "cell_type": "code",
   "execution_count": 12,
   "metadata": {},
   "outputs": [
    {
     "name": "stdout",
     "output_type": "stream",
     "text": [
      "1\n",
      "10\n",
      "101\n",
      "1010\n",
      "10101\n"
     ]
    }
   ],
   "source": [
    "## Pattern 11\n",
    "\n",
    "for i in range(5):\n",
    "    for j in range(i+1):\n",
    "        if j%2==0:\n",
    "            print('1', end='')\n",
    "        else:\n",
    "            print('0', end='')\n",
    "    print()\n",
    "    \n",
    "# Same as pattern 2, just print('1') for even indexes of column and print('0') for odd indexes of column."
   ]
  },
  {
   "cell_type": "code",
   "execution_count": 13,
   "metadata": {},
   "outputs": [
    {
     "name": "stdout",
     "output_type": "stream",
     "text": [
      "1\n",
      "01\n",
      "010\n",
      "1010\n",
      "10101\n"
     ]
    }
   ],
   "source": [
    "## Pattern 12\n",
    "\n",
    "n_rows = 5\n",
    "\n",
    "out = 1\n",
    "for i in range(n_rows):\n",
    "    for j in range(i+1):\n",
    "        print(out, end='')\n",
    "        if out==0:\n",
    "            out=1\n",
    "        else:\n",
    "            out=0\n",
    "    print()\n",
    "    \n",
    "# Initialize output with 1.\n",
    "# Take two loops i and j (one for row and one for column), and print output for columns <= row_number\n",
    "# Update value of output after each print statement"
   ]
  },
  {
   "cell_type": "code",
   "execution_count": 14,
   "metadata": {},
   "outputs": [
    {
     "name": "stdout",
     "output_type": "stream",
     "text": [
      "1      1\n",
      "12    21\n",
      "123  321\n",
      "12344321\n"
     ]
    }
   ],
   "source": [
    "## Pattern 13\n",
    "\n",
    "n_rows = 4\n",
    "n_cols = 8\n",
    "\n",
    "for i in range(n_rows):\n",
    "    for j in range(n_cols):\n",
    "        if (j<=i):\n",
    "            print(j+1, end='')\n",
    "        elif (j>=8-i-1): \n",
    "            print(8-j, end='')\n",
    "        else:\n",
    "            print(\" \", end='')\n",
    "       \n",
    "    print()\n",
    "    \n",
    "# Take two loops i and j (one for row and one for column)\n",
    "# Divide the whole pattern into two parts.\n",
    "# 1) where column_num index <= row_num index, print (column_num)\n",
    "# 2) where column_num index >= column_num index -1 - row_num index, print (total number of columns - column number index)"
   ]
  },
  {
   "cell_type": "code",
   "execution_count": 15,
   "metadata": {},
   "outputs": [
    {
     "name": "stdout",
     "output_type": "stream",
     "text": [
      "1 \n",
      "2 3 \n",
      "4 5 6 \n",
      "7 8 9 10 \n",
      "11 12 13 14 15 \n"
     ]
    }
   ],
   "source": [
    "## Pattern 14\n",
    "\n",
    "n_rows = 5\n",
    "out = 1\n",
    "for i in range(n_rows):\n",
    "    for j in range(i+1):\n",
    "        print(out, '' ,end='')\n",
    "        out+=1\n",
    "    print()\n",
    "\n",
    "# Same as Pattern 12, update output after each print statement but here, with the increment."
   ]
  },
  {
   "cell_type": "code",
   "execution_count": 16,
   "metadata": {},
   "outputs": [
    {
     "name": "stdout",
     "output_type": "stream",
     "text": [
      "A \n",
      "A B \n",
      "A B C \n",
      "A B C D \n",
      "A B C D E \n"
     ]
    }
   ],
   "source": [
    "## Pattern 15\n",
    "\n",
    "n_rows = 5\n",
    "\n",
    "for i in range(n_rows):\n",
    "    alpha = 65\n",
    "    for j in range(i+1):\n",
    "        print(chr(alpha), '' ,end='')\n",
    "        alpha+=1\n",
    "    print()\n",
    "\n",
    "# Same as Pattern 12, the difference is-\n",
    "# Initialize output with ascii value of A inside first loop (i.e. for row)\n",
    "# print alphabet for the given ascii and do increment for ascii value aftre each print statement."
   ]
  },
  {
   "cell_type": "code",
   "execution_count": 17,
   "metadata": {},
   "outputs": [
    {
     "name": "stdout",
     "output_type": "stream",
     "text": [
      "A B C D E \n",
      "A B C D \n",
      "A B C \n",
      "A B \n",
      "A \n"
     ]
    }
   ],
   "source": [
    "## Pattern 16\n",
    "\n",
    "n_rows = 5\n",
    "\n",
    "for i in range(n_rows):\n",
    "    alpha = 65\n",
    "    for j in range(n_rows-i):\n",
    "        print(chr(alpha), '' ,end='')\n",
    "        alpha+=1\n",
    "    print()\n",
    "\n",
    "# Same as Pattern 15, just change the range for second loop (i.e. for columns). This time, it will be (n_rows - i)"
   ]
  },
  {
   "cell_type": "code",
   "execution_count": 18,
   "metadata": {},
   "outputs": [
    {
     "name": "stdout",
     "output_type": "stream",
     "text": [
      "A \n",
      "B B \n",
      "C C C \n",
      "D D D D \n",
      "E E E E E \n"
     ]
    }
   ],
   "source": [
    "## Pattern 17\n",
    "\n",
    "n_rows = 5\n",
    "\n",
    "alpha = 65\n",
    "for i in range(n_rows):\n",
    "    for j in range(i+1):\n",
    "        print(chr(alpha), '' ,end='')\n",
    "    alpha+=1\n",
    "    print()\n",
    "\n",
    "# Same as Pattern 15, just update the value of output after completion of second loop(not after each print statement).\n",
    "# It means same value will be printed for all valid columns of a row. "
   ]
  },
  {
   "cell_type": "code",
   "execution_count": 19,
   "metadata": {},
   "outputs": [
    {
     "name": "stdout",
     "output_type": "stream",
     "text": [
      "    A    \n",
      "   BAB   \n",
      "  CBABC  \n",
      " DCBABCD \n",
      "EDCBABCDE\n"
     ]
    }
   ],
   "source": [
    "## Pattern 18\n",
    "\n",
    "n_rows = 5\n",
    "n_cols = 9\n",
    "\n",
    "for i in range(n_rows):\n",
    "    alpha = 65\n",
    "    for j in range(n_cols):\n",
    "        if (j>=(4-i) and j<=(4+i)):\n",
    "            alpha_n = abs(4-j)\n",
    "            print(chr(alpha+alpha_n), end='')    \n",
    "        else:\n",
    "            print(\" \", end='')\n",
    "    print()\n",
    "    \n",
    "# Initialize output with ascii value of 'A' in first loop (i.e. for each row)\n",
    "# 4 is the middle index and column before it and after it has the same value. So keep 4 as reference index.\n",
    "# Print 'A' with given ascii value if column index is 4, otherwise if (col_num>= 4- row_num) and (col_num<= 4+ row_num):\n",
    "# print alphabet with ascii value = (ascii of A + abs(4-col_num))\n"
   ]
  },
  {
   "cell_type": "code",
   "execution_count": 20,
   "metadata": {},
   "outputs": [
    {
     "name": "stdout",
     "output_type": "stream",
     "text": [
      "E \n",
      "D E \n",
      "C D E \n",
      "B C D E \n",
      "A B C D E \n"
     ]
    }
   ],
   "source": [
    "## Pattern 19\n",
    "\n",
    "n_rows = 5\n",
    "alpha = 65\n",
    "for i in range(n_rows):\n",
    "    alpha_start = alpha+4-i\n",
    "    for j in range(i+1):\n",
    "        print(chr(alpha_start+j), '', end='')  \n",
    "    print()\n",
    "    \n",
    "# Take two loops i and j (one for row and one for column)\n",
    "# Initialize first value of each row inside first loop with (ascii of A + 4 - row_num).\n",
    "# print chr(initialized value of row + col_num) for column index <= row_num.\n"
   ]
  },
  {
   "cell_type": "code",
   "execution_count": 21,
   "metadata": {},
   "outputs": [
    {
     "name": "stdout",
     "output_type": "stream",
     "text": [
      "*       *\n",
      "**     **\n",
      "***   ***\n",
      "**** ****\n",
      "*********\n",
      "**** ****\n",
      "***   ***\n",
      "**     **\n",
      "*       *\n",
      "         \n"
     ]
    }
   ],
   "source": [
    "## Pattern 20\n",
    "\n",
    "n_rows = 10\n",
    "n_cols = 9\n",
    "\n",
    "for i in range(n_rows):\n",
    "    if i<5:\n",
    "        for j in range(n_cols):\n",
    "            if (j<i+1 or j>=(9-1-i)):\n",
    "                print('*', end='')\n",
    "            else:\n",
    "                print(\" \", end='')\n",
    "    else:\n",
    "        for j in range(9):\n",
    "            if (j<=9-1-i or j>i-1):     \n",
    "                print('*', end='')\n",
    "            else:\n",
    "                print(\" \", end='')\n",
    "    print()\n",
    "    \n",
    "    \n",
    "# Same as pattern 8, just change the conditions\n",
    "    \n",
    "    "
   ]
  },
  {
   "cell_type": "code",
   "execution_count": 22,
   "metadata": {},
   "outputs": [
    {
     "name": "stdout",
     "output_type": "stream",
     "text": [
      "**********\n",
      "****  ****\n",
      "***    ***\n",
      "**      **\n",
      "*        *\n",
      "*        *\n",
      "**      **\n",
      "***    ***\n",
      "****  ****\n",
      "**********\n"
     ]
    }
   ],
   "source": [
    "## Pattern 21\n",
    "\n",
    "n_rows = 10\n",
    "n_cols = 10\n",
    "\n",
    "for i in range(n_rows):\n",
    "    if i<5:\n",
    "        for j in range(n_cols):\n",
    "            if j<=5-i-1 or j>5+i-1:\n",
    "                print(\"*\", end='')\n",
    "            else:\n",
    "                print(\" \", end='')\n",
    "        print()\n",
    "        \n",
    "    else:\n",
    "        for j in range(n_cols):\n",
    "            if j<=i-5 or j>=9-i+5:\n",
    "                print(\"*\", end='')\n",
    "            else:\n",
    "                print(\" \", end='')\n",
    "        print()\n",
    "    \n",
    "    \n",
    "# Same as pattern 8, just change the conditions\n"
   ]
  },
  {
   "cell_type": "code",
   "execution_count": 23,
   "metadata": {},
   "outputs": [
    {
     "name": "stdout",
     "output_type": "stream",
     "text": [
      "*  *  *  *  *  \n",
      "*           *  \n",
      "*           *  \n",
      "*           *  \n",
      "*  *  *  *  *  \n"
     ]
    }
   ],
   "source": [
    "## Pattern 23\n",
    "\n",
    "n_rows = 5\n",
    "n_cols = 5\n",
    "\n",
    "for i in range(n_rows):\n",
    "    for j in range(n_cols):\n",
    "        if i==0 or j==0 or i==(5-1) or j==(5-1):\n",
    "            print(\"*\", ' ', end='')\n",
    "        else:\n",
    "            print(\" \",' ', end='')\n",
    "    print()\n",
    "    \n",
    "# Take two loops i and j (one for row and one for column)\n",
    "# print ('*') if row_num=0 or col_num=0 or row_num=total_rows-1 or col_num=total_col-1, else print (' ')"
   ]
  },
  {
   "cell_type": "code",
   "execution_count": 24,
   "metadata": {},
   "outputs": [
    {
     "name": "stdout",
     "output_type": "stream",
     "text": [
      "A  A  A  A  A  A  A  A  A  A  \n",
      "A  *  *  *  *  *  *  *  *  A  \n",
      "A  *  *  *  *  *  *  *  *  A  \n",
      "A  *  *  *  *  *  *  *  *  A  \n",
      "A  *  *  *  *  *  *  *  *  A  \n",
      "A  *  *  *  *  *  *  *  *  A  \n",
      "A  *  *  *  *  *  *  *  *  A  \n",
      "A  *  *  *  *  *  *  *  *  A  \n",
      "A  *  *  *  *  *  *  *  *  A  \n",
      "A  A  A  A  A  A  A  A  A  A  \n"
     ]
    }
   ],
   "source": [
    "## Pattern 22\n",
    "\n",
    "n_rows = 10\n",
    "n_cols = 10\n",
    "\n",
    "for i in range(n_rows):\n",
    "    for j in range(n_cols):\n",
    "        if i==0 or j==0 or i==(10-1) or j==(10-1):\n",
    "            print(\"A\", ' ', end='')\n",
    "        else:\n",
    "            print(\"*\",' ', end='')\n",
    "    print()\n",
    "    \n",
    "# Take two loops i and j (one for row and one for column)\n",
    "# print ('A') if row_num=0 or col_num=0 or row_num=total_rows-1 or col_num=total_col-1, else print ('*')"
   ]
  },
  {
   "cell_type": "code",
   "execution_count": null,
   "metadata": {},
   "outputs": [],
   "source": []
  }
 ],
 "metadata": {
  "kernelspec": {
   "display_name": "Python 3",
   "language": "python",
   "name": "python3"
  },
  "language_info": {
   "codemirror_mode": {
    "name": "ipython",
    "version": 3
   },
   "file_extension": ".py",
   "mimetype": "text/x-python",
   "name": "python",
   "nbconvert_exporter": "python",
   "pygments_lexer": "ipython3",
   "version": "3.8.5"
  }
 },
 "nbformat": 4,
 "nbformat_minor": 4
}
